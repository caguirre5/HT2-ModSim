{
 "cells": [
  {
   "cell_type": "code",
   "execution_count": null,
   "metadata": {},
   "outputs": [],
   "source": [
    "from pulp import LpMaximize, LpProblem, LpVariable\n",
    "\n",
    "# Define el problema\n",
    "model = LpProblem(name=\"max-profit\", sense=LpMaximize)\n",
    "\n",
    "# Define las variables\n",
    "x = LpVariable(name=\"x\", lowBound=0)  # Producto A\n",
    "y = LpVariable(name=\"y\", lowBound=0)  # Producto B\n",
    "\n",
    "# Agrega las restricciones al modelo\n",
    "model += (2 * x + 4 * y <= 100, \"mano_de_obra\")\n",
    "model += (3 * x + 2 * y <= 120, \"materia_prima\")\n",
    "\n",
    "# Define la función objetivo\n",
    "model += 10 * x + 15 * y\n",
    "\n",
    "# Resuelve el problema\n",
    "model.solve()\n",
    "\n",
    "# Imprime el resultado\n",
    "print(f\"Producto A (x): {x.varValue}\")\n",
    "print(f\"Producto B (y): {y.varValue}\")\n",
    "print(f\"Ganancia máxima: ${model.objective.value()}\")\n"
   ]
  },
  {
   "cell_type": "code",
   "execution_count": null,
   "metadata": {},
   "outputs": [],
   "source": [
    "import numpy as np\n",
    "import matplotlib.pyplot as plt\n",
    "\n",
    "# Valores para x\n",
    "x_vals = np.linspace(0, 50, 500)\n",
    "\n",
    "# Despeja y para cada restricción\n",
    "y1_vals = (100 - 2*x_vals) / 4\n",
    "y2_vals = (120 - 3*x_vals) / 2\n",
    "\n",
    "plt.plot(x_vals, y1_vals, label='2x + 4y ≤ 100')\n",
    "plt.plot(x_vals, y2_vals, label='3x + 2y ≤ 120')\n",
    "plt.fill_between(x_vals, 0, np.minimum(y1_vals, y2_vals), color='gray', alpha=0.5)\n",
    "plt.scatter(x.varValue, y.varValue, color='red')  # punto óptimo\n",
    "plt.xlim(0, 50)\n",
    "plt.ylim(0, 50)\n",
    "plt.xlabel('Producto A')\n",
    "plt.ylabel('Producto B')\n",
    "plt.legend()\n",
    "plt.title('Área factible y punto óptimo')\n",
    "plt.show()\n"
   ]
  }
 ],
 "metadata": {
  "language_info": {
   "name": "python"
  },
  "orig_nbformat": 4
 },
 "nbformat": 4,
 "nbformat_minor": 2
}
